{
  "nbformat": 4,
  "nbformat_minor": 0,
  "metadata": {
    "colab": {
      "name": "Homework 3: Coffea Arabica Quality.ipynb adlı not defterinin kopyası",
      "provenance": [],
      "collapsed_sections": [],
      "include_colab_link": true
    },
    "kernelspec": {
      "name": "python3",
      "display_name": "Python 3"
    },
    "language_info": {
      "name": "python"
    }
  },
  "cells": [
    {
      "cell_type": "markdown",
      "metadata": {
        "id": "view-in-github",
        "colab_type": "text"
      },
      "source": [
        "<a href=\"https://colab.research.google.com/github/elfyld/Coursera/blob/main/Homework_3_Coffea_Arabica_Quality_ipynb_adl%C4%B1_not_defterinin_kopyas%C4%B1.ipynb\" target=\"_parent\"><img src=\"https://colab.research.google.com/assets/colab-badge.svg\" alt=\"Open In Colab\"/></a>"
      ]
    },
    {
      "cell_type": "markdown",
      "metadata": {
        "id": "ldMgDPWh6KZJ"
      },
      "source": [
        "#Homework 3: Coffea Arabica Quality\n",
        "\n",
        "*In this homework, you are going to work with the coffea arabica quality  dataset.*\n",
        "\n",
        "**Submission Instructions**\n",
        "\n",
        "---\n",
        "It is important that you follow the submission instructions. \n",
        "1. Copy this assignment notebook to your Drive. <font color = 'red'> `File` --> `Save a copy in Drive`</font>. Rename it as <font color = 'green'>`Lastname_Firstname_hw3`</font>.\n",
        "\n",
        "2. Write your solutions in the cells  marked <font color = 'green'>`# your code`</font>.\n",
        "\n",
        "3. **Do not delete your outputs. They are essential for the grading. Make sure that cells containing your solutions are executed, and the results are displayed in the notebook.**\n",
        "\n",
        "4. When you're done, please submit your solutions as an <font color=\"red\">`.ipynb`</font> file. To do so:\n",
        "\n",
        "\n",
        "*   Click on <font color=\"red\">`File`</font>  at the top left on the Colab screen, then click on <font color = 'red'>`Download .ipynb`</font>.\n",
        "*   Then submit the downloaded <font color=\"red\">`.ipynb`</font> version of your work on SUCourse.\n",
        "\n",
        "For any question, you may send an email to the TAs and LAs.\n",
        "\n",
        "---"
      ]
    },
    {
      "cell_type": "markdown",
      "metadata": {
        "id": "pSp2PnhBSssR"
      },
      "source": [
        "In this homework, you will work on a dataset about [Coffea Arabica Quality](https://github.com/jldbc/coffee-quality-database). \n",
        "\n",
        "For this homework, you will use the provided file `arabica_data.csv`. This is a cleaned and updated version of the original dataset, which contains information of arabica coffee beans from the Coffee Quality Institute's trained reviewers.\n",
        "\n",
        "\n",
        "Below, you can find all the set of features, provided in the dataset:\n",
        "*   **Quality Measures**\n",
        "    * Aroma\n",
        "    * Flavor\n",
        "    * Aftertaste\n",
        "    * Acidity\n",
        "    * Body\n",
        "    * Balance\n",
        "    * Uniformity\n",
        "    * Clean.Cup\n",
        "    * Sweetness\n",
        "    * Cupper.Points\t\n",
        "    * Moisture\n",
        "\n",
        "\n",
        "*   **Bean Metadata**\n",
        "    * Processing.Method\n",
        "    * Color\n",
        "    * Harvest.Year\n",
        "    * Grading.Date\n",
        "\n",
        "*   **Farm Metadata**\n",
        "    * Owner\n",
        "    * Country.of.Origin\n",
        "    * Farm.Name\n",
        "    * Lot.Number\n",
        "    * Mill\n",
        "    * Company\n",
        "    * Region\n",
        "    * Producer\n",
        "    * Altitude\n",
        "\n",
        "*Do not forget to add the shared `arabica_data.csv` file to your drive and mount to your drive. Otherwise, you won't be able to read the file.*"
      ]
    },
    {
      "cell_type": "code",
      "metadata": {
        "colab": {
          "base_uri": "https://localhost:8080/"
        },
        "id": "C3MOsDPfwG6u",
        "outputId": "ffdea3d0-0ca4-4fb1-fd68-23f0fdcb93e5"
      },
      "source": [
        "from google.colab import drive\n",
        "drive.mount(\"./drive\")\n",
        "\n",
        "path_prefix = \"./drive/My Drive\""
      ],
      "execution_count": 1,
      "outputs": [
        {
          "output_type": "stream",
          "name": "stdout",
          "text": [
            "Mounted at ./drive\n"
          ]
        }
      ]
    },
    {
      "cell_type": "code",
      "metadata": {
        "id": "Y5IZcvlawG9y"
      },
      "source": [
        "import pandas as pd\n",
        "import numpy as np\n",
        "import matplotlib.pyplot as plt\n",
        "from os.path import join\n",
        "\n",
        "%matplotlib inline"
      ],
      "execution_count": 2,
      "outputs": []
    },
    {
      "cell_type": "code",
      "metadata": {
        "colab": {
          "base_uri": "https://localhost:8080/",
          "height": 236
        },
        "id": "KlHxT8RbwHMJ",
        "outputId": "81379508-2a1c-44ad-bd4d-f8ed154db461"
      },
      "source": [
        "fname = \"arabica_data.csv\"\n",
        "df = pd.read_csv(join(path_prefix, fname))\n",
        "df.head(2)"
      ],
      "execution_count": 3,
      "outputs": [
        {
          "output_type": "execute_result",
          "data": {
            "text/html": [
              "<div>\n",
              "<style scoped>\n",
              "    .dataframe tbody tr th:only-of-type {\n",
              "        vertical-align: middle;\n",
              "    }\n",
              "\n",
              "    .dataframe tbody tr th {\n",
              "        vertical-align: top;\n",
              "    }\n",
              "\n",
              "    .dataframe thead th {\n",
              "        text-align: right;\n",
              "    }\n",
              "</style>\n",
              "<table border=\"1\" class=\"dataframe\">\n",
              "  <thead>\n",
              "    <tr style=\"text-align: right;\">\n",
              "      <th></th>\n",
              "      <th>Owner</th>\n",
              "      <th>Country.of.Origin</th>\n",
              "      <th>Farm.Name</th>\n",
              "      <th>Lot.Number</th>\n",
              "      <th>Mill</th>\n",
              "      <th>Company</th>\n",
              "      <th>Region</th>\n",
              "      <th>Producer</th>\n",
              "      <th>Harvest.Year</th>\n",
              "      <th>Grading.Date</th>\n",
              "      <th>Processing.Method</th>\n",
              "      <th>Aroma</th>\n",
              "      <th>Flavor</th>\n",
              "      <th>Aftertaste</th>\n",
              "      <th>Acidity</th>\n",
              "      <th>Body</th>\n",
              "      <th>Balance</th>\n",
              "      <th>Uniformity</th>\n",
              "      <th>Clean.Cup</th>\n",
              "      <th>Sweetness</th>\n",
              "      <th>Cupper.Points</th>\n",
              "      <th>Moisture</th>\n",
              "      <th>Color</th>\n",
              "      <th>unit_of_measurement</th>\n",
              "      <th>altitude_low_meters</th>\n",
              "      <th>altitude_high_meters</th>\n",
              "      <th>altitude_mean_meters</th>\n",
              "    </tr>\n",
              "  </thead>\n",
              "  <tbody>\n",
              "    <tr>\n",
              "      <th>0</th>\n",
              "      <td>metad plc</td>\n",
              "      <td>Ethiopia</td>\n",
              "      <td>metad plc</td>\n",
              "      <td>NaN</td>\n",
              "      <td>metad plc</td>\n",
              "      <td>metad agricultural developmet plc</td>\n",
              "      <td>guji-hambela</td>\n",
              "      <td>METAD PLC</td>\n",
              "      <td>2014</td>\n",
              "      <td>April 4th, 2015</td>\n",
              "      <td>Washed / Wet</td>\n",
              "      <td>8.033884</td>\n",
              "      <td>7.963169</td>\n",
              "      <td>7.330932</td>\n",
              "      <td>8.283544</td>\n",
              "      <td>9.205563</td>\n",
              "      <td>8.513634</td>\n",
              "      <td>10.0</td>\n",
              "      <td>10.0</td>\n",
              "      <td>10.0</td>\n",
              "      <td>7.815878</td>\n",
              "      <td>0.12</td>\n",
              "      <td>Green</td>\n",
              "      <td>m</td>\n",
              "      <td>1950.0</td>\n",
              "      <td>2200.0</td>\n",
              "      <td>2075.0</td>\n",
              "    </tr>\n",
              "    <tr>\n",
              "      <th>1</th>\n",
              "      <td>metad plc</td>\n",
              "      <td>Ethiopia</td>\n",
              "      <td>metad plc</td>\n",
              "      <td>NaN</td>\n",
              "      <td>metad plc</td>\n",
              "      <td>metad agricultural developmet plc</td>\n",
              "      <td>guji-hambela</td>\n",
              "      <td>METAD PLC</td>\n",
              "      <td>2014</td>\n",
              "      <td>April 4th, 2015</td>\n",
              "      <td>Washed / Wet</td>\n",
              "      <td>5.721737</td>\n",
              "      <td>7.097335</td>\n",
              "      <td>5.360303</td>\n",
              "      <td>5.011347</td>\n",
              "      <td>8.881139</td>\n",
              "      <td>8.360832</td>\n",
              "      <td>10.0</td>\n",
              "      <td>10.0</td>\n",
              "      <td>10.0</td>\n",
              "      <td>8.545422</td>\n",
              "      <td>0.12</td>\n",
              "      <td>Green</td>\n",
              "      <td>m</td>\n",
              "      <td>1950.0</td>\n",
              "      <td>2200.0</td>\n",
              "      <td>2075.0</td>\n",
              "    </tr>\n",
              "  </tbody>\n",
              "</table>\n",
              "</div>"
            ],
            "text/plain": [
              "       Owner Country.of.Origin  ... altitude_high_meters altitude_mean_meters\n",
              "0  metad plc          Ethiopia  ...               2200.0               2075.0\n",
              "1  metad plc          Ethiopia  ...               2200.0               2075.0\n",
              "\n",
              "[2 rows x 27 columns]"
            ]
          },
          "metadata": {},
          "execution_count": 3
        }
      ]
    },
    {
      "cell_type": "markdown",
      "metadata": {
        "id": "AMUEq6_B25Ca"
      },
      "source": [
        "# Q1: Removing Columns with High Missing Values (15 points)"
      ]
    },
    {
      "cell_type": "markdown",
      "metadata": {
        "id": "PJ9xipC15S97"
      },
      "source": [
        "It is not possible to find a perfect dataset. During data collection, some values can be lost. These lost values are called as missing values. In the DataFrame, missing values are usually labelled as `NaN`.\n",
        "\n",
        "In this question, you will remove the columns which contain high number of missing values. If the missing value percentage in a column is greater than or equal to 20%, you will drop that column. \n",
        "* First, print the number of columns in the dataset.\n",
        "* Secondly, if missing value percentage in a column is greater than or equal to 20%, print the name of the column and the percentage of missing values in that column. Also, remove this column from dataset.\n",
        "* Lastly, after removing columns, print the number of remaining columns in the dataset.\n",
        "\n",
        "Your output should be like:\n",
        "```\n",
        "Initially, there are [...] columns \n",
        "\n",
        "[...]% of the values are missing in [...] column\n",
        ".\n",
        ".\n",
        ".\n",
        "\n",
        "After removing columns with high missing value percentage, there are [...] columns \n",
        "```"
      ]
    },
    {
      "cell_type": "code",
      "metadata": {
        "id": "BjnEq-XZ3DoN",
        "colab": {
          "base_uri": "https://localhost:8080/"
        },
        "outputId": "4dae9d44-f721-4d38-dc57-ef62839bccec"
      },
      "source": [
        "# your code\n",
        "print( \"Initially, there are \" , len(df.columns),\"columns\")\n",
        "NumColumns=len(df.columns)\n",
        "NumValues=len(df.index)\n",
        "df_c=df\n",
        "df['Aroma'].isnull().sum()\n",
        "for i in df:\n",
        "  if(df[i].isnull().sum()> NumValues*20/100):\n",
        "    print(df[i].isnull().sum()/NumValues*100,\"% of the values are missing in \",i,\"column\")\n",
        "    df=df.drop(i,axis=1)\n",
        "\n",
        "print(\"After removing columns with high missing value percentage, there are \",len(df.columns),\" columns \")"
      ],
      "execution_count": 4,
      "outputs": [
        {
          "output_type": "stream",
          "name": "stdout",
          "text": [
            "Initially, there are  27 columns\n",
            "27.154843630816174 % of the values are missing in  Farm.Name column\n",
            "79.40503432494279 % of the values are missing in  Lot.Number column\n",
            "23.64607170099161 % of the values are missing in  Mill column\n",
            "After removing columns with high missing value percentage, there are  24  columns \n"
          ]
        }
      ]
    },
    {
      "cell_type": "markdown",
      "metadata": {
        "id": "0iq_4ShLsihM"
      },
      "source": [
        "# Q2: Calculating Total Quality Score (10 points)"
      ]
    },
    {
      "cell_type": "markdown",
      "metadata": {
        "id": "TNAjk42TsnzY"
      },
      "source": [
        "There are several columns (Quality Measures) in the dataset that evaluates the quality of a coffee bean in different aspects. Unfortunately, dataset owner forgot to calculate the total quality score for each coffee bean. \n",
        "\n",
        "In this question, your task is to:\n",
        "* Create a new column called `Total Score` which will store the sum of values in `Quality Measure` columns. \n",
        "* Then, print basic statistics (mean, std, min, max, etc.) on `Total Score` column. Remember that there is function that you can use to achieve this goal.\n",
        "\n",
        "Your answer should be exactly same as the figure below:\n",
        "\n",
        "![](https://i.ibb.co/9vDpc7x/Screen-Shot-2021-11-08-at-21-08-14.png)"
      ]
    },
    {
      "cell_type": "code",
      "metadata": {
        "id": "LdS4rmDytk1A",
        "colab": {
          "base_uri": "https://localhost:8080/"
        },
        "outputId": "7be9c190-bcf1-43e7-992a-1b421b25a389"
      },
      "source": [
        "# your code\n",
        "df['Total Score']=df['Aroma']+df['Flavor']+df['Aftertaste']+df['Acidity']+df['Body']+df['Balance']+df['Uniformity']+df['Clean.Cup']+df['Sweetness']+df['Cupper.Points']+df['Moisture']\n",
        "df['Total Score'].describe()"
      ],
      "execution_count": 5,
      "outputs": [
        {
          "output_type": "execute_result",
          "data": {
            "text/plain": [
              "count    1311.000000\n",
              "mean       84.553229\n",
              "std         3.526415\n",
              "min        51.713880\n",
              "25%        82.457379\n",
              "50%        84.726141\n",
              "75%        86.966816\n",
              "max        94.723712\n",
              "Name: Total Score, dtype: float64"
            ]
          },
          "metadata": {},
          "execution_count": 5
        }
      ]
    },
    {
      "cell_type": "markdown",
      "metadata": {
        "id": "WyMgH6DgoXxZ"
      },
      "source": [
        "# Q3: Unit Conversion (15 points)"
      ]
    },
    {
      "cell_type": "markdown",
      "metadata": {
        "id": "JCtZT13_waZ0"
      },
      "source": [
        "Altitude of the farm has a crucial affect on bean quality. High altitudes are considered ideal for growing the coffee plant, with cooler temperatures delaying the growth cycle whereas Low-altitude coffee plants produce higher yields due to faster ripening times, but the beans need to be treated differently than those from higher altitudes — all the way from roast to brew. In this dataset, altitude information for each coffee bean is shared. However, some of the altitude values are stored in metric system (meters) and some of them stored in imperial system (feet). \n",
        "\n",
        "In this question, you will convert values in `altitude_mean_meters` column from feet to meters. (As a side note, 1 Feet = 0.3048 Meters) You can use `unit_of_measurement` column to check which system was used for each bean.\n",
        "1. First of all, print the number of beans recorded in metric system. Then print the mean of `altitude_mean_meters` column for the beans recorded in metric system.\n",
        "2. Secondly, print the number of beans recorded in imperial system. Then print the mean of `altitude_mean_meters` column for the beans recorded in imperial system.\n",
        "3. Convert feet values to meters in `altitude_mean_meters` column.\n",
        "4. Lastly, print the mean of `altitude_mean_meters` column for all beans.\n",
        "\n",
        "At the end, your cell output should be exactly same as:\n",
        "```\n",
        "[...] beans are recorded in metric system\n",
        "Mean of altitude_mean_meters column, for the beans recorded in metric system:  [...]  meters\n",
        "\n",
        "[...] beans are recorded in imperial system\n",
        "Mean of altitude_mean_meters column, for the beans recorded in imperial system:  [...]  feet\n",
        "\n",
        "After unit conversion, Mean of altitude_mean_meters column for all beans:  [...]  meters\n",
        "```"
      ]
    },
    {
      "cell_type": "code",
      "metadata": {
        "id": "E8vpof6zocD2",
        "colab": {
          "base_uri": "https://localhost:8080/"
        },
        "outputId": "aa087d1d-108e-46d8-9318-82aca51080ff"
      },
      "source": [
        "# your code\n",
        "m= df['unit_of_measurement'].value_counts()['m']\n",
        "print(m,\"beans are recorded in metric system\")\n",
        "df2= df[['unit_of_measurement']]\n"
      ],
      "execution_count": 6,
      "outputs": [
        {
          "output_type": "stream",
          "name": "stdout",
          "text": [
            "1129 beans are recorded in metric system\n"
          ]
        }
      ]
    },
    {
      "cell_type": "markdown",
      "metadata": {
        "id": "QEu3oe4B4Ji8"
      },
      "source": [
        "# Q4: Processing Method Distribution (15 points)"
      ]
    },
    {
      "cell_type": "markdown",
      "metadata": {
        "id": "EtM_EFk-6P1X"
      },
      "source": [
        "There are several methods for processing the coffee bean which effects the sweetness, body, and acidity of brewed coffee. In the dataset, `Processing.Method` column indicates the processing information for each coffee bean.\n",
        "\n",
        "Find the number of coffee beans in each `Processing.Method` and display their percentages as bar chart. \n",
        "\n",
        "*   Display the frequency of `NaN` values in `Processing.Method` column as bar called `Unknown`.\n",
        "*   Bars should be displayed in ascending order.\n",
        "*   Use `#A45D5D` color for bars and display white grids in each bar.\n",
        "*   Method names in X axis should be rotated by 30 degrees.\n",
        "*   Share percentages in Y axis should increase by 10%.\n",
        "\n",
        "The result should be exactly same as the figure below.\n",
        "\n",
        "![](https://i.ibb.co/PrgSTTq/download.png)"
      ]
    },
    {
      "cell_type": "code",
      "metadata": {
        "id": "Ie65Rw8bASvy",
        "colab": {
          "base_uri": "https://localhost:8080/",
          "height": 567
        },
        "outputId": "238dacc3-0e89-4978-9488-d6490943b676"
      },
      "source": [
        "# your code\n",
        "method_df= df['Processing.Method'].value_counts(normalize=False, sort=True, ascending=True, bins=None, dropna=False)\n",
        "\n",
        "values=[i*100/NumValues for i in method_df.values.tolist()]\n",
        "\n",
        "\n",
        "plt.figure(figsize=(10,8))\n",
        "\n",
        "plt.bar(method_df.index.map(str),values,color='#A45D5D')\n",
        "plt.gca().set_yticklabels(['{:.0f}%'.format(x) for x in plt.gca().get_yticks()])\n",
        "plt.grid(axis='y',color='white')\n",
        "plt.xticks(rotation=30)\n",
        "plt.ylabel('Share')\n",
        "plt.title('Processing Methods of Beans')\n",
        "\n",
        "\n",
        "plt.show()\n"
      ],
      "execution_count": 16,
      "outputs": [
        {
          "output_type": "display_data",
          "data": {
            "image/png": "[encoded data removed]",
            "text/plain": [
              "<Figure size 720x576 with 1 Axes>"
            ]
          },
          "metadata": {
            "needs_background": "light"
          }
        }
      ]
    },
    {
      "cell_type": "markdown",
      "metadata": {
        "id": "lYaEZ2_BB72H"
      },
      "source": [
        "# Q5: Body Distribution by Processing Method (15 points)"
      ]
    },
    {
      "cell_type": "markdown",
      "metadata": {
        "id": "hiR9NU8hmP7j"
      },
      "source": [
        "In the previous question, you have explored the distribution of processing methods of coffee beans in the dataset. In this question, you are going to explore the relationship between processing method and bean body rating by using violinplots. You can access processing method information from `Processing.Method` column and bean body rating from `Body` column.\n",
        "\n",
        "* `Processing.Method` categories in X axis should have ascending order w.r.t `Body` median. \n",
        "* Tick values in Y axis should be limited to two decimals points. As an example, value `8.888888889` should be converted to `8.88`. (`8.89` is also acceptable)\n",
        "* Display the median for each violinplot. Do not forget to add title and labels.\n",
        "\n",
        "The result should look like the figure below.\n",
        "![](https://i.ibb.co/qmywjHq/download-1.png)"
      ]
    },
    {
      "cell_type": "code",
      "metadata": {
        "id": "2jE_pYJbAr4U"
      },
      "source": [
        "# your code\n"
      ],
      "execution_count": null,
      "outputs": []
    },
    {
      "cell_type": "markdown",
      "metadata": {
        "id": "-x-YzF-AqEfu"
      },
      "source": [
        "# Q6: Correlation Plot for Quality Measures (15 points)"
      ]
    },
    {
      "cell_type": "markdown",
      "metadata": {
        "id": "uYBhHlrQxRsy"
      },
      "source": [
        "Now, it is time to check the correlation between each quality measure. Your task is to create a heatmap to display correlations. \n",
        "\n",
        "* You should display a colorbar right next to figure. Lower limit should be -0.25 and upper limit should be 1.0\n",
        "* Annotate the heatmap with the correlation values for each pair. \n",
        "* You can rotate the labels in X axis to prevent overlapping.\n",
        "\n",
        "The result should be exactly same as the figure below.\n",
        "\n",
        "![](https://i.ibb.co/Jvc0PKv/Screen-Shot-2021-11-09-at-16-03-42.png)"
      ]
    },
    {
      "cell_type": "code",
      "metadata": {
        "id": "EPNZNpPcxUOh"
      },
      "source": [
        "# your code\n"
      ],
      "execution_count": null,
      "outputs": []
    },
    {
      "cell_type": "markdown",
      "metadata": {
        "id": "pU2WizJWxLZB"
      },
      "source": [
        "# Q7: Plotting Coffee Bean Distribution Around the World (15 points)"
      ]
    },
    {
      "cell_type": "markdown",
      "metadata": {
        "id": "5vx8_MguwMMe"
      },
      "source": [
        "In the dataset, `Country.of.Origin` column indicates the origin of each coffee bean. Your task in this question is to use `GeoPandas` library to display the frequency of coffee beans on a world map. \n",
        "\n",
        "* In the cell below, you can find a `GeoDataFrame` object that contains country names (column `name`) and geometric information (column `geometry`) for each contry. \n",
        "* Iterate over `GeoDataFrame` object. For each country, find the number of occurrence in the original dataset. (You can use `Country.of.Origin` column)\n",
        "* Lastly, plot country occurrences on a world map. Some countries in the `GeoDataFrame` object will have 0 as occurrence value since they do not exist in `Country.of.Origin` column. These countries will be automatically discarded by `GeoPandas` so they will not be shown on the world map. In order to prevent this, use `missing_kwds` parameter to set a default color for as 'lightgrey' these countries. \n",
        "\n",
        "\n",
        "The result should be exactly same as the figure below. You can use `Reds` color map. Do not forget to add legend next to the world map.\n",
        "![](https://i.ibb.co/Wv023bw/download.png)"
      ]
    },
    {
      "cell_type": "code",
      "metadata": {
        "colab": {
          "base_uri": "https://localhost:8080/",
          "height": 663
        },
        "id": "azZfqC4lxn_J",
        "outputId": "969a7cb9-928c-4077-bc3e-67da25b8bb3e"
      },
      "source": [
        "!pip install geopandas\n",
        "\n",
        "import geopandas as gpd\n",
        "\n",
        "world = gpd.read_file(gpd.datasets.get_path('naturalearth_lowres'))\n",
        "world = world[(world.name!=\"Antarctica\")]\n",
        "world.head()"
      ],
      "execution_count": null,
      "outputs": [
        {
          "output_type": "stream",
          "name": "stdout",
          "text": [
            "Collecting geopandas\n",
            "  Downloading geopandas-0.10.2-py2.py3-none-any.whl (1.0 MB)\n",
            "\u001b[K     |████████████████████████████████| 1.0 MB 5.0 MB/s \n",
            "\u001b[?25hCollecting fiona>=1.8\n",
            "  Downloading Fiona-1.8.20-cp37-cp37m-manylinux1_x86_64.whl (15.4 MB)\n",
            "\u001b[K     |████████████████████████████████| 15.4 MB 39 kB/s \n",
            "\u001b[?25hRequirement already satisfied: shapely>=1.6 in /usr/local/lib/python3.7/dist-packages (from geopandas) (1.8.0)\n",
            "Requirement already satisfied: pandas>=0.25.0 in /usr/local/lib/python3.7/dist-packages (from geopandas) (1.1.5)\n",
            "Collecting pyproj>=2.2.0\n",
            "  Downloading pyproj-3.2.1-cp37-cp37m-manylinux2010_x86_64.whl (6.3 MB)\n",
            "\u001b[K     |████████████████████████████████| 6.3 MB 44.4 MB/s \n",
            "\u001b[?25hRequirement already satisfied: six>=1.7 in /usr/local/lib/python3.7/dist-packages (from fiona>=1.8->geopandas) (1.15.0)\n",
            "Requirement already satisfied: setuptools in /usr/local/lib/python3.7/dist-packages (from fiona>=1.8->geopandas) (57.4.0)\n",
            "Collecting cligj>=0.5\n",
            "  Downloading cligj-0.7.2-py3-none-any.whl (7.1 kB)\n",
            "Collecting click-plugins>=1.0\n",
            "  Downloading click_plugins-1.1.1-py2.py3-none-any.whl (7.5 kB)\n",
            "Requirement already satisfied: click>=4.0 in /usr/local/lib/python3.7/dist-packages (from fiona>=1.8->geopandas) (7.1.2)\n",
            "Requirement already satisfied: certifi in /usr/local/lib/python3.7/dist-packages (from fiona>=1.8->geopandas) (2021.10.8)\n",
            "Requirement already satisfied: attrs>=17 in /usr/local/lib/python3.7/dist-packages (from fiona>=1.8->geopandas) (21.2.0)\n",
            "Collecting munch\n",
            "  Downloading munch-2.5.0-py2.py3-none-any.whl (10 kB)\n",
            "Requirement already satisfied: python-dateutil>=2.7.3 in /usr/local/lib/python3.7/dist-packages (from pandas>=0.25.0->geopandas) (2.8.2)\n",
            "Requirement already satisfied: pytz>=2017.2 in /usr/local/lib/python3.7/dist-packages (from pandas>=0.25.0->geopandas) (2018.9)\n",
            "Requirement already satisfied: numpy>=1.15.4 in /usr/local/lib/python3.7/dist-packages (from pandas>=0.25.0->geopandas) (1.19.5)\n",
            "Installing collected packages: munch, cligj, click-plugins, pyproj, fiona, geopandas\n",
            "Successfully installed click-plugins-1.1.1 cligj-0.7.2 fiona-1.8.20 geopandas-0.10.2 munch-2.5.0 pyproj-3.2.1\n"
          ]
        },
        {
          "output_type": "execute_result",
          "data": {
            "text/html": [
              "<div>\n",
              "<style scoped>\n",
              "    .dataframe tbody tr th:only-of-type {\n",
              "        vertical-align: middle;\n",
              "    }\n",
              "\n",
              "    .dataframe tbody tr th {\n",
              "        vertical-align: top;\n",
              "    }\n",
              "\n",
              "    .dataframe thead th {\n",
              "        text-align: right;\n",
              "    }\n",
              "</style>\n",
              "<table border=\"1\" class=\"dataframe\">\n",
              "  <thead>\n",
              "    <tr style=\"text-align: right;\">\n",
              "      <th></th>\n",
              "      <th>pop_est</th>\n",
              "      <th>continent</th>\n",
              "      <th>name</th>\n",
              "      <th>iso_a3</th>\n",
              "      <th>gdp_md_est</th>\n",
              "      <th>geometry</th>\n",
              "    </tr>\n",
              "  </thead>\n",
              "  <tbody>\n",
              "    <tr>\n",
              "      <th>0</th>\n",
              "      <td>920938</td>\n",
              "      <td>Oceania</td>\n",
              "      <td>Fiji</td>\n",
              "      <td>FJI</td>\n",
              "      <td>8374.0</td>\n",
              "      <td>MULTIPOLYGON (((180.00000 -16.06713, 180.00000...</td>\n",
              "    </tr>\n",
              "    <tr>\n",
              "      <th>1</th>\n",
              "      <td>53950935</td>\n",
              "      <td>Africa</td>\n",
              "      <td>Tanzania</td>\n",
              "      <td>TZA</td>\n",
              "      <td>150600.0</td>\n",
              "      <td>POLYGON ((33.90371 -0.95000, 34.07262 -1.05982...</td>\n",
              "    </tr>\n",
              "    <tr>\n",
              "      <th>2</th>\n",
              "      <td>603253</td>\n",
              "      <td>Africa</td>\n",
              "      <td>W. Sahara</td>\n",
              "      <td>ESH</td>\n",
              "      <td>906.5</td>\n",
              "      <td>POLYGON ((-8.66559 27.65643, -8.66512 27.58948...</td>\n",
              "    </tr>\n",
              "    <tr>\n",
              "      <th>3</th>\n",
              "      <td>35623680</td>\n",
              "      <td>North America</td>\n",
              "      <td>Canada</td>\n",
              "      <td>CAN</td>\n",
              "      <td>1674000.0</td>\n",
              "      <td>MULTIPOLYGON (((-122.84000 49.00000, -122.9742...</td>\n",
              "    </tr>\n",
              "    <tr>\n",
              "      <th>4</th>\n",
              "      <td>326625791</td>\n",
              "      <td>North America</td>\n",
              "      <td>United States of America</td>\n",
              "      <td>USA</td>\n",
              "      <td>18560000.0</td>\n",
              "      <td>MULTIPOLYGON (((-122.84000 49.00000, -120.0000...</td>\n",
              "    </tr>\n",
              "  </tbody>\n",
              "</table>\n",
              "</div>"
            ],
            "text/plain": [
              "     pop_est  ...                                           geometry\n",
              "0     920938  ...  MULTIPOLYGON (((180.00000 -16.06713, 180.00000...\n",
              "1   53950935  ...  POLYGON ((33.90371 -0.95000, 34.07262 -1.05982...\n",
              "2     603253  ...  POLYGON ((-8.66559 27.65643, -8.66512 27.58948...\n",
              "3   35623680  ...  MULTIPOLYGON (((-122.84000 49.00000, -122.9742...\n",
              "4  326625791  ...  MULTIPOLYGON (((-122.84000 49.00000, -120.0000...\n",
              "\n",
              "[5 rows x 6 columns]"
            ]
          },
          "metadata": {},
          "execution_count": 16
        }
      ]
    },
    {
      "cell_type": "code",
      "metadata": {
        "id": "LlNYd4mY7_bP"
      },
      "source": [
        "# your code\n"
      ],
      "execution_count": null,
      "outputs": []
    }
  ]
}